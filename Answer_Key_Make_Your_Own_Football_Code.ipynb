{
  "nbformat": 4,
  "nbformat_minor": 0,
  "metadata": {
    "colab": {
      "name": "Answer Key_Make Your Own Football Code",
      "provenance": [],
      "collapsed_sections": []
    },
    "kernelspec": {
      "name": "python3",
      "display_name": "Python 3"
    }
  },
  "cells": [
    {
      "cell_type": "markdown",
      "metadata": {
        "id": "7iUY0XkPjwZ4"
      },
      "source": [
        "# Make Your Own Football Code\n",
        "#### Name: [insert your name here]\n",
        "#### Date: [insert the date here]\n",
        "\n"
      ]
    },
    {
      "cell_type": "markdown",
      "metadata": {
        "id": "pOT-gxLbZI2P"
      },
      "source": [
        "## Task: Rank 10 College Football Teams based on the Win-Loss Percentage"
      ]
    },
    {
      "cell_type": "markdown",
      "metadata": {
        "id": "4acmkqd-pqLj"
      },
      "source": [
        "### Step 1: Load the Dataset\n",
        "Dataset from the [Sports Reference Website](https://www.sports-reference.com/cfb/years/2020-standings.html) will be stored in a Pandas Dataframe (table with different columns)."
      ]
    },
    {
      "cell_type": "code",
      "metadata": {
        "id": "POyImv7BR1TI"
      },
      "source": [
        "import pandas as pd\n",
        "url = 'https://raw.githubusercontent.com/STEAMKITX/Football-STEAM-Kickoff/main/CollegeRankings.csv'\n",
        "dataset = pd.read_csv(url)\n",
        "# Dataset is now stored in a Pandas Dataframe"
      ],
      "execution_count": 18,
      "outputs": []
    },
    {
      "cell_type": "markdown",
      "metadata": {
        "id": "mDcCru3xqfZg"
      },
      "source": [
        "#### Visualize the first 10 rows in the Dataset\n",
        "The main column headings are Rk (Rank), School (School Name), Conf (Conference), W (Wins), L (Losses) , and Pct (Win-Loss Percentage). "
      ]
    },
    {
      "cell_type": "code",
      "metadata": {
        "id": "uG6e50iVUweR",
        "colab": {
          "base_uri": "https://localhost:8080/",
          "height": 359
        },
        "outputId": "d8d71806-d139-44c0-bba8-ce60da39a1a2"
      },
      "source": [
        "dataset.head(10)"
      ],
      "execution_count": 19,
      "outputs": [
        {
          "output_type": "execute_result",
          "data": {
            "text/html": [
              "<div>\n",
              "<style scoped>\n",
              "    .dataframe tbody tr th:only-of-type {\n",
              "        vertical-align: middle;\n",
              "    }\n",
              "\n",
              "    .dataframe tbody tr th {\n",
              "        vertical-align: top;\n",
              "    }\n",
              "\n",
              "    .dataframe thead th {\n",
              "        text-align: right;\n",
              "    }\n",
              "</style>\n",
              "<table border=\"1\" class=\"dataframe\">\n",
              "  <thead>\n",
              "    <tr style=\"text-align: right;\">\n",
              "      <th></th>\n",
              "      <th>School</th>\n",
              "      <th>Pct</th>\n",
              "    </tr>\n",
              "  </thead>\n",
              "  <tbody>\n",
              "    <tr>\n",
              "      <th>0</th>\n",
              "      <td>Clemson</td>\n",
              "      <td>0.833</td>\n",
              "    </tr>\n",
              "    <tr>\n",
              "      <th>1</th>\n",
              "      <td>Alabama</td>\n",
              "      <td>1.000</td>\n",
              "    </tr>\n",
              "    <tr>\n",
              "      <th>2</th>\n",
              "      <td>North Carolina State</td>\n",
              "      <td>0.667</td>\n",
              "    </tr>\n",
              "    <tr>\n",
              "      <th>3</th>\n",
              "      <td>Boston College</td>\n",
              "      <td>0.545</td>\n",
              "    </tr>\n",
              "    <tr>\n",
              "      <th>4</th>\n",
              "      <td>Wake Forest</td>\n",
              "      <td>0.444</td>\n",
              "    </tr>\n",
              "    <tr>\n",
              "      <th>5</th>\n",
              "      <td>Louisville</td>\n",
              "      <td>0.364</td>\n",
              "    </tr>\n",
              "    <tr>\n",
              "      <th>6</th>\n",
              "      <td>Florida State</td>\n",
              "      <td>0.333</td>\n",
              "    </tr>\n",
              "    <tr>\n",
              "      <th>7</th>\n",
              "      <td>Syracuse</td>\n",
              "      <td>0.091</td>\n",
              "    </tr>\n",
              "    <tr>\n",
              "      <th>8</th>\n",
              "      <td>Miami (FL)</td>\n",
              "      <td>0.727</td>\n",
              "    </tr>\n",
              "    <tr>\n",
              "      <th>9</th>\n",
              "      <td>Duke</td>\n",
              "      <td>0.182</td>\n",
              "    </tr>\n",
              "  </tbody>\n",
              "</table>\n",
              "</div>"
            ],
            "text/plain": [
              "                 School    Pct\n",
              "0               Clemson  0.833\n",
              "1               Alabama  1.000\n",
              "2  North Carolina State  0.667\n",
              "3        Boston College  0.545\n",
              "4           Wake Forest  0.444\n",
              "5            Louisville  0.364\n",
              "6         Florida State  0.333\n",
              "7              Syracuse  0.091\n",
              "8            Miami (FL)  0.727\n",
              "9                  Duke  0.182"
            ]
          },
          "metadata": {
            "tags": []
          },
          "execution_count": 19
        }
      ]
    },
    {
      "cell_type": "code",
      "metadata": {
        "colab": {
          "base_uri": "https://localhost:8080/",
          "height": 387
        },
        "id": "B-r3L0q8htrZ",
        "outputId": "cb52e263-75de-4a2b-fc8b-709c91059a15"
      },
      "source": [
        "# Plot a bar chart to visualize the 10 schools\n",
        "import matplotlib.pyplot as plt\n",
        "dataset.plot(kind='bar', x='School', y='Pct')\n",
        "# Add title and axis names\n",
        "plt.title('10 College Football Teams Based on Win-Loss Percentage')\n",
        "plt.ylabel(\"Win-Loss Percentage\")\n",
        "plt.xlabel(\"Schools\")\n",
        "plt.show()"
      ],
      "execution_count": 20,
      "outputs": [
        {
          "output_type": "display_data",
          "data": {
            "image/png": "[encoded data removed]",
            "text/plain": [
              "<Figure size 432x288 with 1 Axes>"
            ]
          },
          "metadata": {
            "tags": [],
            "needs_background": "light"
          }
        }
      ]
    },
    {
      "cell_type": "markdown",
      "metadata": {
        "id": "HI-J32_olwvz"
      },
      "source": [
        "### Step 2: Sort the dataframe by Win-Loss Percentage (Pct)\n",
        "Sort the schools in order from largest to smallest based on Win-Loss Percentage (Pct). "
      ]
    },
    {
      "cell_type": "code",
      "metadata": {
        "colab": {
          "base_uri": "https://localhost:8080/",
          "height": 359
        },
        "id": "TDi3ZIL0l1-d",
        "outputId": "7031d46e-be0c-4da3-d3f5-00fad9cf6fe9"
      },
      "source": [
        "top = dataset.sort_values(by=['Pct'], ascending=False) \n",
        "top.head(10)"
      ],
      "execution_count": 21,
      "outputs": [
        {
          "output_type": "execute_result",
          "data": {
            "text/html": [
              "<div>\n",
              "<style scoped>\n",
              "    .dataframe tbody tr th:only-of-type {\n",
              "        vertical-align: middle;\n",
              "    }\n",
              "\n",
              "    .dataframe tbody tr th {\n",
              "        vertical-align: top;\n",
              "    }\n",
              "\n",
              "    .dataframe thead th {\n",
              "        text-align: right;\n",
              "    }\n",
              "</style>\n",
              "<table border=\"1\" class=\"dataframe\">\n",
              "  <thead>\n",
              "    <tr style=\"text-align: right;\">\n",
              "      <th></th>\n",
              "      <th>School</th>\n",
              "      <th>Pct</th>\n",
              "    </tr>\n",
              "  </thead>\n",
              "  <tbody>\n",
              "    <tr>\n",
              "      <th>1</th>\n",
              "      <td>Alabama</td>\n",
              "      <td>1.000</td>\n",
              "    </tr>\n",
              "    <tr>\n",
              "      <th>0</th>\n",
              "      <td>Clemson</td>\n",
              "      <td>0.833</td>\n",
              "    </tr>\n",
              "    <tr>\n",
              "      <th>8</th>\n",
              "      <td>Miami (FL)</td>\n",
              "      <td>0.727</td>\n",
              "    </tr>\n",
              "    <tr>\n",
              "      <th>2</th>\n",
              "      <td>North Carolina State</td>\n",
              "      <td>0.667</td>\n",
              "    </tr>\n",
              "    <tr>\n",
              "      <th>3</th>\n",
              "      <td>Boston College</td>\n",
              "      <td>0.545</td>\n",
              "    </tr>\n",
              "    <tr>\n",
              "      <th>4</th>\n",
              "      <td>Wake Forest</td>\n",
              "      <td>0.444</td>\n",
              "    </tr>\n",
              "    <tr>\n",
              "      <th>5</th>\n",
              "      <td>Louisville</td>\n",
              "      <td>0.364</td>\n",
              "    </tr>\n",
              "    <tr>\n",
              "      <th>6</th>\n",
              "      <td>Florida State</td>\n",
              "      <td>0.333</td>\n",
              "    </tr>\n",
              "    <tr>\n",
              "      <th>9</th>\n",
              "      <td>Duke</td>\n",
              "      <td>0.182</td>\n",
              "    </tr>\n",
              "    <tr>\n",
              "      <th>7</th>\n",
              "      <td>Syracuse</td>\n",
              "      <td>0.091</td>\n",
              "    </tr>\n",
              "  </tbody>\n",
              "</table>\n",
              "</div>"
            ],
            "text/plain": [
              "                 School    Pct\n",
              "1               Alabama  1.000\n",
              "0               Clemson  0.833\n",
              "8            Miami (FL)  0.727\n",
              "2  North Carolina State  0.667\n",
              "3        Boston College  0.545\n",
              "4           Wake Forest  0.444\n",
              "5            Louisville  0.364\n",
              "6         Florida State  0.333\n",
              "9                  Duke  0.182\n",
              "7              Syracuse  0.091"
            ]
          },
          "metadata": {
            "tags": []
          },
          "execution_count": 21
        }
      ]
    },
    {
      "cell_type": "markdown",
      "metadata": {
        "id": "bU6O8YefxZCv"
      },
      "source": [
        "### Step 3: Plot a bar chart to visualize the 10 College Football Teams based on Win-Loss Percentage\n"
      ]
    },
    {
      "cell_type": "code",
      "metadata": {
        "colab": {
          "base_uri": "https://localhost:8080/",
          "height": 387
        },
        "id": "uhpW0y8GcVJf",
        "outputId": "156fb572-72a9-425d-d45c-53805248166b"
      },
      "source": [
        "# Plot a bar chart to visualize the 10 schools from lowest to highest\n",
        "import matplotlib.pyplot as plt\n",
        "top.plot(kind='bar', x='School', y='Pct')\n",
        "# Add title and axis names\n",
        "plt.title('10 College Football Teams Ranked Based on Win-Loss Percentage')\n",
        "plt.ylabel(\"Win-Loss Percentage\")\n",
        "plt.xlabel(\"Schools\")\n",
        "plt.show()"
      ],
      "execution_count": 22,
      "outputs": [
        {
          "output_type": "display_data",
          "data": {
            "image/png": "[encoded data removed]",
            "text/plain": [
              "<Figure size 432x288 with 1 Axes>"
            ]
          },
          "metadata": {
            "tags": [],
            "needs_background": "light"
          }
        }
      ]
    },
    {
      "cell_type": "markdown",
      "metadata": {
        "id": "OsFmANS9y12i"
      },
      "source": [
        "### Step 4: Redesign the bar chart to visualize the 10 College Football Teams from lowest to highest.\n"
      ]
    },
    {
      "cell_type": "code",
      "metadata": {
        "colab": {
          "base_uri": "https://localhost:8080/",
          "height": 295
        },
        "id": "AnWceUzfyQmi",
        "outputId": "aaedd73b-6a14-4914-99d1-4da0c70b7e65"
      },
      "source": [
        "# Plot a bar chart to visualize the 10 schools from lowest to highest\n",
        "import matplotlib.pyplot as plt\n",
        "top.plot(kind='barh', x='School', y='Pct')\n",
        "# Add title and axis names\n",
        "plt.title('10 College Football Teams Ranked Based on Win-Loss Percentage')\n",
        "plt.xlabel(\"Win-Loss Percentage\")\n",
        "plt.ylabel(\"Schools\")\n",
        "plt.show()"
      ],
      "execution_count": 23,
      "outputs": [
        {
          "output_type": "display_data",
          "data": {
            "image/png": "[encoded data removed]",
            "text/plain": [
              "<Figure size 432x288 with 1 Axes>"
            ]
          },
          "metadata": {
            "tags": [],
            "needs_background": "light"
          }
        }
      ]
    }
  ]
}