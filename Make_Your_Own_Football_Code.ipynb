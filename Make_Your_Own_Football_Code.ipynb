{
  "nbformat": 4,
  "nbformat_minor": 0,
  "metadata": {
    "colab": {
      "name": "Make Your Own Football Code",
      "provenance": [],
      "collapsed_sections": []
    },
    "kernelspec": {
      "name": "python3",
      "display_name": "Python 3"
    }
  },
  "cells": [
    {
      "cell_type": "markdown",
      "metadata": {
        "id": "7iUY0XkPjwZ4"
      },
      "source": [
        "# Make Your Own Football Code\n",
        "#### Name: [insert your name here]\n",
        "#### Date: [insert the date here]\n",
        "\n"
      ]
    },
    {
      "cell_type": "markdown",
      "metadata": {
        "id": "pOT-gxLbZI2P"
      },
      "source": [
        "## Task: Rank 10 College Football Teams based on the Win-Loss Percentage\n",
        "Replace the # with the code needed for each section."
      ]
    },
    {
      "cell_type": "markdown",
      "metadata": {
        "id": "4acmkqd-pqLj"
      },
      "source": [
        "### Step 1: Load the Dataset\n",
        "Dataset from the [Sports Reference Website](https://www.sports-reference.com/cfb/years/2020-standings.html) will be stored in a Pandas Dataframe (table with different columns)."
      ]
    },
    {
      "cell_type": "code",
      "metadata": {
        "id": "POyImv7BR1TI"
      },
      "source": [
        "import pandas as pd\n",
        "url = 'https://raw.githubusercontent.com/STEAMKITX/Football-STEAM-Kickoff/main/CollegeRankings.csv'\n",
        "dataset = pd.read_csv(#) #Replace # with url\n",
        "# Dataset is now stored in a Pandas Dataframe"
      ],
      "execution_count": null,
      "outputs": []
    },
    {
      "cell_type": "markdown",
      "metadata": {
        "id": "mDcCru3xqfZg"
      },
      "source": [
        "#### Visualize the first 10 rows in the Dataset\n",
        "The main column headings are Rk (Rank), School (School Name), Conf (Conference), W (Wins), L (Losses) , and Pct (Win-Loss Percentage). "
      ]
    },
    {
      "cell_type": "code",
      "metadata": {
        "id": "uG6e50iVUweR"
      },
      "source": [
        "dataset.head(#) #Replace # with 10"
      ],
      "execution_count": null,
      "outputs": []
    },
    {
      "cell_type": "code",
      "metadata": {
        "id": "B-r3L0q8htrZ"
      },
      "source": [
        "# Plot a bar chart to visualize the 10 schools\n",
        "import matplotlib.pyplot as plt\n",
        "dataset.plot(kind='#', x='##', y='###') #Replace # with bar, ## with School, ### with Pct\n",
        "# Add title and axis names\n",
        "plt.title('#') #Replace # with a title for your bar chart\n",
        "plt.ylabel(\"#\") #Replace # with Win-Loss Percentage\n",
        "plt.xlabel(\"#\") #Replace # with Schools\n",
        "plt.show()"
      ],
      "execution_count": null,
      "outputs": []
    },
    {
      "cell_type": "markdown",
      "metadata": {
        "id": "HI-J32_olwvz"
      },
      "source": [
        "### Step 2: Sort the dataframe by Win-Loss Percentage (Pct)\n",
        "Sort the schools in order from largest to smallest based on Win-Loss Percentage (Pct). "
      ]
    },
    {
      "cell_type": "code",
      "metadata": {
        "id": "TDi3ZIL0l1-d"
      },
      "source": [
        "top = dataset.sort_values(by=['#'], ascending=False) #Replace # with Pct\n",
        "top.head(#) #Replace # with 10"
      ],
      "execution_count": null,
      "outputs": []
    },
    {
      "cell_type": "markdown",
      "metadata": {
        "id": "bU6O8YefxZCv"
      },
      "source": [
        "### Step 3: Plot a bar chart to visualize the 10 College Football Teams based on Win-Loss Percentage\n"
      ]
    },
    {
      "cell_type": "code",
      "metadata": {
        "id": "uhpW0y8GcVJf"
      },
      "source": [
        "# Plot a bar chart to visualize the 10 schools from highest to lowest\n",
        "import matplotlib.pyplot as plt\n",
        "top.plot(kind='#', x='##', y='###') #Replace # with bar, ## with School, ### with Pct\n",
        "# Add title and axis names\n",
        "plt.title('#') #Replace # with a title for your bar chart\n",
        "plt.ylabel(\"#\") #Replace # with Win-Loss Percentage\n",
        "plt.xlabel(\"#\") #Replace # with Schools\n",
        "plt.show()"
      ],
      "execution_count": null,
      "outputs": []
    },
    {
      "cell_type": "markdown",
      "metadata": {
        "id": "OsFmANS9y12i"
      },
      "source": [
        "### Step 4: Redesign the bar chart to visualize the 10 College Football Teams from lowest to highest.\n"
      ]
    },
    {
      "cell_type": "code",
      "metadata": {
        "id": "AnWceUzfyQmi"
      },
      "source": [
        "# Plot a bar chart to visualize the 10 schools from lowest to highest\n",
        "import matplotlib.pyplot as plt\n",
        "top.plot(kind='#', x='##', y='###') #Replace # with barh, ## with School, ### with Pct\n",
        "# Add title and axis names\n",
        "plt.title('#') #Replace # with a title for your bar chart\n",
        "plt.xlabel(\"#\") #Replace # with Win-Loss Percentage\n",
        "plt.ylabel(\"#\") #Replace # with Schools\n",
        "plt.show()"
      ],
      "execution_count": null,
      "outputs": []
    }
  ]
}